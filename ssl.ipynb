{
 "cells": [
  {
   "cell_type": "markdown",
   "metadata": {},
   "source": [
    "# Required Libraries"
   ]
  },
  {
   "cell_type": "code",
   "execution_count": 1,
   "metadata": {},
   "outputs": [],
   "source": [
    "import numpy as np\n",
    "import pandas as pd\n",
    "import matplotlib.pyplot as plt\n",
    "from sklearn.semi_supervised import SelfTrainingClassifier\n",
    "from sklearn.neighbors import KNeighborsClassifier\n",
    "from sklearn.metrics import accuracy_score, confusion_matrix, classification_report, balanced_accuracy_score"
   ]
  },
  {
   "cell_type": "markdown",
   "metadata": {},
   "source": [
    "# Reading the Data"
   ]
  },
  {
   "cell_type": "code",
   "execution_count": 2,
   "metadata": {},
   "outputs": [
    {
     "data": {
      "text/html": [
       "<div>\n",
       "<style scoped>\n",
       "    .dataframe tbody tr th:only-of-type {\n",
       "        vertical-align: middle;\n",
       "    }\n",
       "\n",
       "    .dataframe tbody tr th {\n",
       "        vertical-align: top;\n",
       "    }\n",
       "\n",
       "    .dataframe thead th {\n",
       "        text-align: right;\n",
       "    }\n",
       "</style>\n",
       "<table border=\"1\" class=\"dataframe\">\n",
       "  <thead>\n",
       "    <tr style=\"text-align: right;\">\n",
       "      <th></th>\n",
       "      <th>Cancer stage</th>\n",
       "      <th>Clump thickness</th>\n",
       "      <th>No of week</th>\n",
       "      <th>Clump thickness_new</th>\n",
       "      <th>No of week_new</th>\n",
       "      <th>True cancer stage</th>\n",
       "    </tr>\n",
       "  </thead>\n",
       "  <tbody>\n",
       "    <tr>\n",
       "      <th>0</th>\n",
       "      <td>1.0</td>\n",
       "      <td>10.510076</td>\n",
       "      <td>6.166544</td>\n",
       "      <td>10.269649</td>\n",
       "      <td>11.999203</td>\n",
       "      <td>1</td>\n",
       "    </tr>\n",
       "    <tr>\n",
       "      <th>1</th>\n",
       "      <td>1.0</td>\n",
       "      <td>11.739776</td>\n",
       "      <td>7.024066</td>\n",
       "      <td>10.494287</td>\n",
       "      <td>6.495638</td>\n",
       "      <td>1</td>\n",
       "    </tr>\n",
       "    <tr>\n",
       "      <th>2</th>\n",
       "      <td>1.0</td>\n",
       "      <td>7.857070</td>\n",
       "      <td>5.909366</td>\n",
       "      <td>8.516879</td>\n",
       "      <td>7.102108</td>\n",
       "      <td>1</td>\n",
       "    </tr>\n",
       "    <tr>\n",
       "      <th>3</th>\n",
       "      <td>1.0</td>\n",
       "      <td>10.817929</td>\n",
       "      <td>5.920890</td>\n",
       "      <td>8.979736</td>\n",
       "      <td>9.196251</td>\n",
       "      <td>1</td>\n",
       "    </tr>\n",
       "    <tr>\n",
       "      <th>4</th>\n",
       "      <td>1.0</td>\n",
       "      <td>10.302407</td>\n",
       "      <td>6.984937</td>\n",
       "      <td>9.553005</td>\n",
       "      <td>7.120283</td>\n",
       "      <td>1</td>\n",
       "    </tr>\n",
       "  </tbody>\n",
       "</table>\n",
       "</div>"
      ],
      "text/plain": [
       "   Cancer stage  Clump thickness  No of week  Clump thickness_new  \\\n",
       "0           1.0        10.510076    6.166544            10.269649   \n",
       "1           1.0        11.739776    7.024066            10.494287   \n",
       "2           1.0         7.857070    5.909366             8.516879   \n",
       "3           1.0        10.817929    5.920890             8.979736   \n",
       "4           1.0        10.302407    6.984937             9.553005   \n",
       "\n",
       "   No of week_new  True cancer stage  \n",
       "0       11.999203                  1  \n",
       "1        6.495638                  1  \n",
       "2        7.102108                  1  \n",
       "3        9.196251                  1  \n",
       "4        7.120283                  1  "
      ]
     },
     "execution_count": 2,
     "metadata": {},
     "output_type": "execute_result"
    }
   ],
   "source": [
    "df = pd.read_excel('data 1.xlsx')\n",
    "df.head()"
   ]
  }
 ],
 "metadata": {
  "kernelspec": {
   "display_name": "Python 3",
   "language": "python",
   "name": "python3"
  },
  "language_info": {
   "codemirror_mode": {
    "name": "ipython",
    "version": 3
   },
   "file_extension": ".py",
   "mimetype": "text/x-python",
   "name": "python",
   "nbconvert_exporter": "python",
   "pygments_lexer": "ipython3",
   "version": "3.11.4"
  }
 },
 "nbformat": 4,
 "nbformat_minor": 2
}
